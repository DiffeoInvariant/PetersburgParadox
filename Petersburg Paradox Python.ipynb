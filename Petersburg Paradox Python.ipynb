{
 "cells": [
  {
   "cell_type": "markdown",
   "metadata": {},
   "source": [
    "# The St. Petersburg Paradox in Python\n",
    "\n",
    "## By Zane Jakobs\n",
    "\n",
    "\n",
    "\n",
    "# What is the St. Petersburg paradox?\n",
    "\n",
    "Consider the following game: a coin is flipped until it lands on heads, on the $n$-th flip. The player is then paid $2^n$ dollars. As smart casino owners, we want to figure out how much we should charge people to play this game--that is, what's the expected value of this game? \n",
    "\n",
    "In the language of statistics, we want to compute $\\mathbb{E}[2^X],$ where $X\\sim \\text{Geom}(p = \\frac{1}{2})$ is the random variable representing the probability of the game ending on the $n$-th roll, which has the p.d.f (or p.m.f., if you like that name better)\n",
    "$$ F_X(x) = \\left(\\dfrac{1}{2}\\right)^x.$$\n",
    "This expectation can then be computed directly, giving us\n",
    "$$\\mathbb{E}[2^X] = \\sum\\limits_{i = 1}^{\\infty} 2^x \\left(\\dfrac{1}{2}\\right)^x = \\sum\\limits_{i = 1}^{\\infty} 1,$$\n",
    "which clearly diverges. \n",
    "\n",
    "Wait, what? How can the expected winnings be infinite? This is the St. Petersburg (sometimes St. Petersburg Casino) Paradox. But, importantly, do we observe massive winnings in this game in practice? We $\\textit{did}$ assume that the game could go in infinitely long, but very long games are very unlikely, so let's simulate a bunch of games and find out what we get!"
   ]
  },
  {
   "cell_type": "code",
   "execution_count": 36,
   "metadata": {},
   "outputs": [],
   "source": [
    "import numpy as np\n",
    "import seaborn as sns\n",
    "import matplotlib.pyplot as plt\n",
    "from numba import jit\n",
    "import scipy.stats as sps"
   ]
  },
  {
   "cell_type": "code",
   "execution_count": 56,
   "metadata": {},
   "outputs": [],
   "source": [
    "@jit\n",
    "def PetersburgParadox(samples, trials):\n",
    "    avg_payoff = np.zeros(samples)\n",
    "    \n",
    "    for i in range(samples):\n",
    "        for j in range(trials):\n",
    "            done = False\n",
    "            count = 1.0\n",
    "            while not done:\n",
    "                if np.random.randint(0,high = 2) == 0:\n",
    "                    avg_payoff[i] = avg_payoff[i] + np.power(2,count)\n",
    "                    done = True\n",
    "                else:\n",
    "                    count = count +1\n",
    "        avg_payoff[i] = avg_payoff[i]/trials\n",
    "        \n",
    "    mu = np.mean(avg_payoff)\n",
    "    sd = np.std(avg_payoff)\n",
    "    skewness = sps.skew(avg_payoff)\n",
    "    kurt = sps.kurtosis(avg_payoff)\n",
    "    \n",
    "    print(\"Through\", samples, \"samples of\", trials ,\"trials each, the sample means had the following distribution and statistics:\")\n",
    "    print(\"Mean:\", mu)\n",
    "    print(\"Standard Deviation:\", sd)\n",
    "    print(\"Skewness:\",skewness)\n",
    "    print(\"Excess Kurtosis:\",kurt)\n",
    "\n",
    "    sns.distplot(avg_payoff, hist = False, kde = True,  kde_kws = {'shade': False, 'linewidth': 1}, color = 'blue')\n",
    "    plt.title('Density Plot of Average Winnings')\n",
    "    plt.xlabel('Average Payoff')\n",
    "    plt.ylabel('Density')"
   ]
  },
  {
   "cell_type": "code",
   "execution_count": 58,
   "metadata": {},
   "outputs": [
    {
     "name": "stdout",
     "output_type": "stream",
     "text": [
      "Through 1000 samples of 100000 trials each, the sample means had the following distribution and statistics:\n",
      "Mean: 26.73312218\n",
      "Standard Deviation: 43.18457825986659\n",
      "Skewness: 12.318875820159809\n",
      "Excess Kurtosis: 176.34492382714723\n"
     ]
    },
    {
     "data": {
      "image/png": "[encoded data removed]",
      "text/plain": [
       "<Figure size 432x288 with 1 Axes>"
      ]
     },
     "metadata": {},
     "output_type": "display_data"
    }
   ],
   "source": [
    "PetersburgParadox(1000,100000)"
   ]
  }
 ],
 "metadata": {
  "kernelspec": {
   "display_name": "Python 3",
   "language": "python",
   "name": "python3"
  },
  "language_info": {
   "codemirror_mode": {
    "name": "ipython",
    "version": 3
   },
   "file_extension": ".py",
   "mimetype": "text/x-python",
   "name": "python",
   "nbconvert_exporter": "python",
   "pygments_lexer": "ipython3",
   "version": "3.6.4"
  }
 },
 "nbformat": 4,
 "nbformat_minor": 2
}
